{
 "cells": [
  {
   "cell_type": "code",
   "execution_count": 1,
   "id": "spatial-scholarship",
   "metadata": {},
   "outputs": [],
   "source": [
    "import numpy as np\n",
    "import pandas as pd\n",
    "from tsfit import TSFit\n",
    "import rw"
   ]
  },
  {
   "cell_type": "code",
   "execution_count": 2,
   "id": "acoustic-bundle",
   "metadata": {},
   "outputs": [
    {
     "name": "stdout",
     "output_type": "stream",
     "text": [
      "132.21448530951395 131.9507003051237 0.2637850043902574\n"
     ]
    }
   ],
   "source": [
    "rwalk = rw.norm_rw(1000)\n",
    "period = 100\n",
    "model = TSFit(4, period=period, metric='P2')\n",
    "model.fit(rwalk)\n",
    "estimate = model.transform()\n",
    "\n",
    "# now do something with the fit\n",
    "estindex = rwalk.size - 1 - period\n",
    "print(rwalk.iloc[estindex], estimate.iloc[estindex], model.error())"
   ]
  },
  {
   "cell_type": "code",
   "execution_count": null,
   "id": "polished-massachusetts",
   "metadata": {},
   "outputs": [],
   "source": []
  }
 ],
 "metadata": {
  "kernelspec": {
   "display_name": "Python 3",
   "language": "python",
   "name": "python3"
  },
  "language_info": {
   "codemirror_mode": {
    "name": "ipython",
    "version": 3
   },
   "file_extension": ".py",
   "mimetype": "text/x-python",
   "name": "python",
   "nbconvert_exporter": "python",
   "pygments_lexer": "ipython3",
   "version": "3.8.10"
  }
 },
 "nbformat": 4,
 "nbformat_minor": 5
}
